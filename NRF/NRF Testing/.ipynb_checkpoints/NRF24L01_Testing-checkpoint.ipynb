{
 "cells": [
  {
   "cell_type": "markdown",
   "metadata": {},
   "source": [
    "# NRF Testing: NRF24l01\n",
    "These tests works well for NRF24l0. If you have any other module these tests are not for you. Make sure you read all the documents provided and follow the procedure step by step."
   ]
  },
  {
   "cell_type": "markdown",
   "metadata": {},
   "source": [
    "![alt text](https://sunupradana.info/tkr/wp-content/uploads/2017/07/img_596893533f75e.png)"
   ]
  },
  {
   "cell_type": "markdown",
   "metadata": {},
   "source": [
    "### **Note:**\n",
    "1.\tStart with first test always.\n",
    "2.\tGo to next test if and only if the previous one is PASSED.\n",
    "3.\tIf a test is PASSED exchange the rolls of RECEIVER and TRANSMITTER check if you get the same results.\n",
    "4.\tNRF works fine if it passes the FIRST TWO tests.\n",
    "5.\tProceed to further tests for additional functionality.\n"
   ]
  },
  {
   "cell_type": "markdown",
   "metadata": {},
   "source": [
    "### **References:**\n",
    "For further information about NRF24l01visit [Nrf24L01-2.4GHz-HowTo](http://arduinoinfo.mywikis.net/wiki/Nrf24L01-2.4GHz-HowTo) and [Tinker-Tag-nrf24l01](https://sunupradana.info/tkr/tag/nrf24l01/)"
   ]
  }
 ],
 "metadata": {
  "kernelspec": {
   "display_name": "Python 3",
   "language": "python",
   "name": "python3"
  },
  "language_info": {
   "codemirror_mode": {
    "name": "ipython",
    "version": 3
   },
   "file_extension": ".py",
   "mimetype": "text/x-python",
   "name": "python",
   "nbconvert_exporter": "python",
   "pygments_lexer": "ipython3",
   "version": "3.7.6"
  }
 },
 "nbformat": 4,
 "nbformat_minor": 4
}
