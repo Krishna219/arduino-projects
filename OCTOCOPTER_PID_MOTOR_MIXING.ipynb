{
 "cells": [
  {
   "cell_type": "markdown",
   "metadata": {},
   "source": [
    "# OCTOCOPTER PID MOTOR MIXING"
   ]
  },
  {
   "cell_type": "markdown",
   "metadata": {},
   "source": [
    "### PIDMIX:\n",
    "(ROLL, PITCH, YAW) PID corrections in percentage. \n",
    "\n",
    "### CONVENTION:\n",
    "1.\t'+' Positive correction\n",
    "2.\t'-' Negative correction\n",
    "3.\t'1' Apply 100% PID correction\n",
    "4.\t'x' Apply x * 100% PID correction\n"
   ]
  },
  {
   "cell_type": "markdown",
   "metadata": {},
   "source": [
    "### OCTOCOPTER PLUS CONFIGURATION: \n",
    "![alt text](https://raw.githubusercontent.com/Krishna219/arduino-projects/master/octocopter_plus.png)"
   ]
  },
  {
   "cell_type": "code",
   "execution_count": 9,
   "metadata": {},
   "outputs": [],
   "source": [
    "def PIDMIX(x,y,z):\n",
    "    \"\"\"\n",
    "    Function to calculate speed based on the factors\n",
    "    \"\"\"\n",
    "    pass\n",
    "motor = {} #8 Motor speeds"
   ]
  },
  {
   "cell_type": "code",
   "execution_count": 10,
   "metadata": {},
   "outputs": [],
   "source": [
    "motor[1] = PIDMIX(0,-1,1);\n",
    "motor[2] = PIDMIX(-0.707,-0.707,-1);\n",
    "motor[3] = PIDMIX(-1,0,1);\n",
    "motor[4] = PIDMIX(-0.707,0.707,-1);\n",
    "motor[5] = PIDMIX(0,1,1);\n",
    "motor[6] = PIDMIX(0.707,0.707,-1);\n",
    "motor[7] = PIDMIX(1,0,1);\n",
    "motor[8] = PIDMIX(0.707,-0.707,-1);"
   ]
  },
  {
   "cell_type": "markdown",
   "metadata": {},
   "source": [
    "### OCTOCOPTER X CONFIGURATION:\n",
    "![alt text](https://raw.githubusercontent.com/Krishna219/arduino-projects/master/octocopter_X.png)"
   ]
  },
  {
   "cell_type": "code",
   "execution_count": 11,
   "metadata": {},
   "outputs": [],
   "source": [
    "motor[1] = PIDMIX(0.414,-1,1);\n",
    "motor[2] = PIDMIX(-0.414,-1,-1);\n",
    "motor[3] = PIDMIX(-1,-0.414,1);\n",
    "motor[4] = PIDMIX(-1,0.414,-1);\n",
    "motor[5] = PIDMIX(-0.414,1,1);\n",
    "motor[6] = PIDMIX(0.414,1,-1);\n",
    "motor[7] = PIDMIX(1,0.414,1);\n",
    "motor[8] = PIDMIX(1,-0.414,-1);"
   ]
  }
 ],
 "metadata": {
  "kernelspec": {
   "display_name": "Python 3",
   "language": "python",
   "name": "python3"
  },
  "language_info": {
   "codemirror_mode": {
    "name": "ipython",
    "version": 3
   },
   "file_extension": ".py",
   "mimetype": "text/x-python",
   "name": "python",
   "nbconvert_exporter": "python",
   "pygments_lexer": "ipython3",
   "version": "3.7.6"
  }
 },
 "nbformat": 4,
 "nbformat_minor": 4
}
